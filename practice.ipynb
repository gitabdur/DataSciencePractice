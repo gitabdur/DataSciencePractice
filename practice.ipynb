{
 "cells": [
  {
   "cell_type": "markdown",
   "id": "0f1cd79a",
   "metadata": {},
   "source": [
    "REPLACING VOWELS WITH TEH LETTER G"
   ]
  },
  {
   "cell_type": "code",
   "execution_count": 7,
   "id": "875a92b3",
   "metadata": {},
   "outputs": [
    {
     "name": "stdout",
     "output_type": "stream",
     "text": [
      "enter the phraseAbdur\n",
      "Gbdgr\n"
     ]
    }
   ],
   "source": [
    "def translate(phrase):\n",
    "    translation = \"\"\n",
    "    for letter in phrase:\n",
    "        if letter.lower() in \"aeiou\":\n",
    "            if letter.isupper():\n",
    "                translation = translation + \"G\"\n",
    "            else:\n",
    "                translation = translation + \"g\"\n",
    "        else:\n",
    "            translation = translation + letter\n",
    "    return translation\n",
    "print(translate(input(\"enter the phrase\")))\n"
   ]
  },
  {
   "cell_type": "code",
   "execution_count": 8,
   "id": "56c03b83",
   "metadata": {},
   "outputs": [
    {
     "name": "stdout",
     "output_type": "stream",
     "text": [
      "4\n"
     ]
    }
   ],
   "source": [
    "from math import *\n",
    "print(round(3.95))"
   ]
  },
  {
   "cell_type": "raw",
   "id": "a8ba8b99",
   "metadata": {},
   "source": [
    "FINDING GREATEST NUMBER AMONG THREE NUMBERS"
   ]
  },
  {
   "cell_type": "code",
   "execution_count": 12,
   "id": "9ce91570",
   "metadata": {},
   "outputs": [
    {
     "name": "stdout",
     "output_type": "stream",
     "text": [
      "7\n"
     ]
    }
   ],
   "source": [
    "def max_num(num1,num2,num3):\n",
    "    if num1>=num2 and num1>=num3:\n",
    "        return num1\n",
    "    elif num2>=num1 and num2>=num3:\n",
    "        return num2\n",
    "    else:\n",
    "        return num3\n",
    "print(max_num(2,5,7))\n",
    "\n"
   ]
  },
  {
   "cell_type": "markdown",
   "id": "1359281c",
   "metadata": {},
   "source": [
    "FINDING THE RESULT OF A EXPONENTIAL POWER"
   ]
  },
  {
   "cell_type": "code",
   "execution_count": 17,
   "id": "ac2a6684",
   "metadata": {},
   "outputs": [
    {
     "name": "stdout",
     "output_type": "stream",
     "text": [
      "enter the base num : 3\n",
      "enter the power : 4\n",
      "81\n"
     ]
    }
   ],
   "source": [
    "def raise_to_power(base_num,power):\n",
    "    result=1\n",
    "    for index in range(power):\n",
    "        result = result*base_num\n",
    "    return result\n",
    "a=int(input(\"enter the base num : \"))\n",
    "b=int(input(\"enter the power : \"))\n",
    "print(raise_to_power(a,b))\n"
   ]
  },
  {
   "cell_type": "markdown",
   "id": "3c2d4ee0",
   "metadata": {},
   "source": [
    "PATTERN PROGRAM 1"
   ]
  },
  {
   "cell_type": "code",
   "execution_count": 27,
   "id": "31c7752d",
   "metadata": {},
   "outputs": [
    {
     "name": "stdout",
     "output_type": "stream",
     "text": [
      "enter the no of rows4\n",
      "*\n",
      "**\n",
      "***\n",
      "****\n"
     ]
    }
   ],
   "source": [
    "def pattern(n):\n",
    "    for i in range(1,n):\n",
    "        for j in range(1,i+1):\n",
    "            print(\"*\",end =\"\")\n",
    "        print(\"\\r\")\n",
    "a=int(input(\"enter the no of rows\"))\n",
    "pattern(a+1)\n"
   ]
  },
  {
   "cell_type": "markdown",
   "id": "a8eb65d6",
   "metadata": {},
   "source": [
    "PATTERN PROGRAM 2"
   ]
  },
  {
   "cell_type": "code",
   "execution_count": 28,
   "id": "8ba836e9",
   "metadata": {},
   "outputs": [
    {
     "name": "stdout",
     "output_type": "stream",
     "text": [
      "enter the no of rows4\n",
      "   *\n",
      "  **\n",
      " ***\n",
      "****\n"
     ]
    }
   ],
   "source": [
    "def pattern(n):\n",
    "    for i in range(1,n):\n",
    "        for k in range(1,n-i):\n",
    "            print(end =\" \")\n",
    "        for j in range(1,i+1):\n",
    "            print(\"*\",end =\"\")\n",
    "        print(\"\\r\")\n",
    "a=int(input(\"enter the no of rows\"))\n",
    "pattern(a+1)"
   ]
  },
  {
   "cell_type": "markdown",
   "id": "223ffd13",
   "metadata": {},
   "source": [
    "PATTERN PROGRAM 3"
   ]
  },
  {
   "cell_type": "code",
   "execution_count": 30,
   "id": "ffaa6846",
   "metadata": {},
   "outputs": [
    {
     "name": "stdout",
     "output_type": "stream",
     "text": [
      "enter the no of rows4\n",
      "   * \n",
      "  * * \n",
      " * * * \n",
      "* * * * \n"
     ]
    }
   ],
   "source": [
    "def pattern(n):\n",
    "    for i in range(1,n):\n",
    "        for k in range(1,n-i):\n",
    "            print(end=\" \")\n",
    "        for j in range(1,i+1):\n",
    "            print(\"*\",end=\" \")\n",
    "        print(\"\\r\")\n",
    "a=int(input(\"enter the no of rows\"))\n",
    "pattern(a+1)        \n",
    "    "
   ]
  },
  {
   "cell_type": "markdown",
   "id": "3eeb9e89",
   "metadata": {},
   "source": [
    "PATTERN PROGRAM 4"
   ]
  },
  {
   "cell_type": "code",
   "execution_count": 31,
   "id": "8ce6d96d",
   "metadata": {},
   "outputs": [
    {
     "name": "stdout",
     "output_type": "stream",
     "text": [
      "enter the no of rows4\n",
      "1 \n",
      "1 2 \n",
      "1 2 3 \n",
      "1 2 3 4 \n"
     ]
    }
   ],
   "source": [
    "def pattern(n):\n",
    "    for i in range(1,n):\n",
    "        for j in range(1,i+1):\n",
    "            print(j,end=\" \")\n",
    "        print(\"\\r\")\n",
    "a=int(input(\"enter the no of rows\"))\n",
    "pattern(a+1)"
   ]
  },
  {
   "cell_type": "markdown",
   "id": "bbf81be2",
   "metadata": {},
   "source": [
    "PATTERN PROGRAM 5"
   ]
  },
  {
   "cell_type": "code",
   "execution_count": 32,
   "id": "dbf63eaa",
   "metadata": {},
   "outputs": [
    {
     "name": "stdout",
     "output_type": "stream",
     "text": [
      "enter the no of rows4\n",
      "1 \n",
      "2 3 \n",
      "4 5 6 \n",
      "7 8 9 10 \n"
     ]
    }
   ],
   "source": [
    "def pattern(n):\n",
    "    num=1;\n",
    "    for i in range(1,n):\n",
    "        for j in range(1,i+1):\n",
    "            print(num,end=\" \")\n",
    "            num+=1\n",
    "        print(\"\\r\")\n",
    "a=int(input(\"enter the no of rows\"))\n",
    "pattern(a+1)"
   ]
  },
  {
   "cell_type": "markdown",
   "id": "79f20bcb",
   "metadata": {},
   "source": [
    "PATTERN PROGRAM 6"
   ]
  },
  {
   "cell_type": "code",
   "execution_count": 35,
   "id": "c5adc402",
   "metadata": {},
   "outputs": [
    {
     "name": "stdout",
     "output_type": "stream",
     "text": [
      "enter the no of rows4\n",
      "A\n",
      "BC\n",
      "DEF\n",
      "GHIJ\n"
     ]
    }
   ],
   "source": [
    "def pattern(n):\n",
    "    ascii_char = 65\n",
    "    for i in range(1,n):\n",
    "        for j in range(1,i+1):\n",
    "            ch=chr(ascii_char)\n",
    "            print(ch,end=\"\")\n",
    "            ascii_char+=1\n",
    "        print(\"\\r\")\n",
    "a=int(input(\"enter the no of rows\"))\n",
    "pattern(a+1)"
   ]
  },
  {
   "cell_type": "markdown",
   "id": "47ac1aca",
   "metadata": {},
   "source": [
    "PATTERN PROGRAM 6"
   ]
  },
  {
   "cell_type": "code",
   "execution_count": 36,
   "id": "1b1fb41b",
   "metadata": {},
   "outputs": [
    {
     "name": "stdout",
     "output_type": "stream",
     "text": [
      "enter the no of rows4\n",
      "A\n",
      "BB\n",
      "CCC\n",
      "DDDD\n"
     ]
    }
   ],
   "source": [
    "def pattern(n):\n",
    "    ascii_char = 65\n",
    "    for i in range(1,n):\n",
    "        for j in range(1,i+1):\n",
    "            ch=chr(ascii_char)\n",
    "            print(ch,end=\"\")\n",
    "            \n",
    "        print(\"\\r\")\n",
    "        ascii_char+=1\n",
    "a=int(input(\"enter the no of rows\"))\n",
    "pattern(a+1)"
   ]
  },
  {
   "cell_type": "markdown",
   "id": "d1ff926f",
   "metadata": {},
   "source": [
    "PRINTING THE INITIAL WITH FULL LAST NAME"
   ]
  },
  {
   "cell_type": "code",
   "execution_count": 10,
   "id": "2d07a894",
   "metadata": {},
   "outputs": [
    {
     "name": "stdout",
     "output_type": "stream",
     "text": [
      "enter the name : mahendra singh dhoni\n",
      "M. S. dhoni\n"
     ]
    }
   ],
   "source": [
    "def initial(name):\n",
    "    new_name = name.split()\n",
    "    for i in range(0,len(new_name)):\n",
    "        if i<len(new_name)-1:\n",
    "            print(new_name[i][0].upper(),end=\". \")\n",
    "        else:\n",
    "            print(new_name[i])\n",
    "user=input(\"enter the name : \")\n",
    "initial(user)\n",
    "\n",
    "        \n",
    "    \n",
    "    "
   ]
  },
  {
   "cell_type": "markdown",
   "id": "a34d1473",
   "metadata": {},
   "source": [
    "FINDING OUT THE FACTORIAL (METHOD 1)"
   ]
  },
  {
   "cell_type": "code",
   "execution_count": 12,
   "id": "cdab3e53",
   "metadata": {},
   "outputs": [
    {
     "name": "stdout",
     "output_type": "stream",
     "text": [
      "Enter a number to find its factorial6\n",
      "Factorial pf the number is : 720\n"
     ]
    }
   ],
   "source": [
    "num = int(input(\"Enter a number to find its factorial\"))\n",
    "factorial =1\n",
    "for i in range(1,num+1):\n",
    "    factorial =factorial*i\n",
    "print(\"Factorial pf the number is : \"+str(factorial))\n"
   ]
  },
  {
   "cell_type": "markdown",
   "id": "4c792195",
   "metadata": {},
   "source": [
    "FINDING OUT THE FACTORIAL (METHOD 2)"
   ]
  },
  {
   "cell_type": "code",
   "execution_count": 17,
   "id": "1cfacdca",
   "metadata": {},
   "outputs": [
    {
     "name": "stdout",
     "output_type": "stream",
     "text": [
      "Enter the number : 6\n",
      "The factorial of the above number : 720\n"
     ]
    }
   ],
   "source": [
    "\n",
    "def fact(n):\n",
    "   return 1 if (n==1 or n==0) else n*fact(n-1)\n",
    "a = int(input(\"Enter the number : \"))\n",
    "result = fact(a)\n",
    "print(\"The factorial of the above number : \" + str(result))\n",
    "\n",
    "\n",
    "    \n"
   ]
  },
  {
   "cell_type": "markdown",
   "id": "05900815",
   "metadata": {},
   "source": [
    "CHECK WETHER A NUMBER IS ARMSTRONG OR NOT"
   ]
  },
  {
   "cell_type": "code",
   "execution_count": 19,
   "id": "0a50cf02",
   "metadata": {},
   "outputs": [
    {
     "name": "stdout",
     "output_type": "stream",
     "text": [
      "enter the number : 120\n",
      "NOT ARMSTRONG\n"
     ]
    }
   ],
   "source": [
    "def armstrong(n):\n",
    "    num=n\n",
    "    sum=0\n",
    "    while num>0:\n",
    "        digit=num%10\n",
    "        sum = sum + (digit*digit*digit)\n",
    "        num=num//10\n",
    "    if sum==n:\n",
    "        return 1\n",
    "    else:\n",
    "        return -1\n",
    "number=int(input(\"enter the number : \"))\n",
    "if armstrong(number)== 1:\n",
    "    print(\"ARMSTRONG!!\")\n",
    "else:\n",
    "    print(\"NOT ARMSTRONG\")"
   ]
  },
  {
   "cell_type": "markdown",
   "id": "028f9a15",
   "metadata": {},
   "source": [
    "CHECK WETHER A NUMBER IS PRIME OR NOT"
   ]
  },
  {
   "cell_type": "code",
   "execution_count": 24,
   "id": "6bd608c6",
   "metadata": {},
   "outputs": [
    {
     "name": "stdout",
     "output_type": "stream",
     "text": [
      "enter the number : 123\n",
      "NOT PRIME\n"
     ]
    }
   ],
   "source": [
    "def prime(n):\n",
    "    count=0\n",
    "    for i in range(2,n):\n",
    "        if n%i==0:\n",
    "            count+=1\n",
    "    return count\n",
    "number=int(input(\"enter the number : \"))\n",
    "if(prime(number)!=0):\n",
    "    print(\"NOT PRIME\")\n",
    "else:\n",
    "    print(\"PRIME\")\n",
    "\n",
    "        "
   ]
  },
  {
   "cell_type": "markdown",
   "id": "319e14fd",
   "metadata": {},
   "source": [
    "PRINT THE PRIME NUMBERS WITHIN A GIVEN RANGE"
   ]
  },
  {
   "cell_type": "code",
   "execution_count": 28,
   "id": "f28c1600",
   "metadata": {},
   "outputs": [
    {
     "name": "stdout",
     "output_type": "stream",
     "text": [
      "enter the lower limit : 2\n",
      "enter the upper limit : 22\n",
      "The prime number are : \n",
      "2 ,3 ,5 ,7 ,11 ,13 ,17 ,19 ,"
     ]
    }
   ],
   "source": [
    "def prime(a,b):\n",
    "    for i in range(a,b+1):\n",
    "        count=0\n",
    "        for j in range(2,i):\n",
    "            if i%j==0:\n",
    "                count+=1\n",
    "        if count == 0:\n",
    "            print(str(i)+\" ,\",end=\"\")\n",
    "a1=int(input(\"enter the lower limit : \"))\n",
    "b1=int(input(\"enter the upper limit : \"))\n",
    "print(\"The prime number are : \")\n",
    "prime(a1,b1)"
   ]
  },
  {
   "cell_type": "markdown",
   "id": "3a12c2ad",
   "metadata": {},
   "source": [
    "FIBONACCI SERIES"
   ]
  },
  {
   "cell_type": "code",
   "execution_count": 33,
   "id": "f4455020",
   "metadata": {},
   "outputs": [
    {
     "name": "stdout",
     "output_type": "stream",
     "text": [
      "enter the limit : 12\n",
      "The fibonacci series : \n",
      "0,11,2,3,5,8,13,21,34,55,89,144,"
     ]
    }
   ],
   "source": [
    "def fibo(n):\n",
    "    print(\"The fibonacci series : \")\n",
    "    fo = 0\n",
    "    f1 = 1\n",
    "    fn = 1\n",
    "    count=2\n",
    "    print(str(fo)+\",\"+str(f1),end=\"\")\n",
    "    while count <= n:\n",
    "        fn= fo + f1\n",
    "        print(str(fn)+\",\",end=\"\")\n",
    "        fo=f1\n",
    "        f1=fn\n",
    "        count+=1\n",
    "a=int(input(\"enter the limit : \"))\n",
    "fibo(a)"
   ]
  },
  {
   "cell_type": "markdown",
   "id": "31a27add",
   "metadata": {},
   "source": [
    "CHECK WETHER A NUMBER BELONGS TO A FIBONACCI SERIES OR NOT"
   ]
  },
  {
   "cell_type": "code",
   "execution_count": 38,
   "id": "8860475c",
   "metadata": {},
   "outputs": [
    {
     "name": "stdout",
     "output_type": "stream",
     "text": [
      "Enter the number to check wether it is fibonacci : 8\n",
      "FIBONACCI !!!\n"
     ]
    }
   ],
   "source": [
    "import math\n",
    "def checkPerfectSquare(x):\n",
    "    s=int(math.sqrt(x))\n",
    "    return s*s == x\n",
    "def fibo(n):\n",
    "    return checkPerfectSquare(5*n*n + 4) or checkPerfectSquare(5*n*n - 4)\n",
    "number = int(input(\"Enter the number to check wether it is fibonacci : \"))\n",
    "if fibo(number) == True:\n",
    "    print(\"FIBONACCI !!!\")\n",
    "else:\n",
    "    print(\"NOT FIBONACCI !!!\")"
   ]
  },
  {
   "cell_type": "markdown",
   "id": "c692e20e",
   "metadata": {},
   "source": [
    "UNDERSTANDING SET"
   ]
  },
  {
   "cell_type": "code",
   "execution_count": 1,
   "id": "a2c7d28c",
   "metadata": {},
   "outputs": [
    {
     "name": "stdout",
     "output_type": "stream",
     "text": [
      "set()\n"
     ]
    }
   ],
   "source": [
    "a= set()\n",
    "print(a)"
   ]
  },
  {
   "cell_type": "code",
   "execution_count": 2,
   "id": "664271a4",
   "metadata": {},
   "outputs": [
    {
     "name": "stdout",
     "output_type": "stream",
     "text": [
      "{1}\n"
     ]
    }
   ],
   "source": [
    "a.add(1)\n",
    "print(a)"
   ]
  },
  {
   "cell_type": "code",
   "execution_count": 3,
   "id": "5ad3ccb0",
   "metadata": {},
   "outputs": [
    {
     "name": "stdout",
     "output_type": "stream",
     "text": [
      "{1, 2}\n"
     ]
    }
   ],
   "source": [
    "a.add(2)\n",
    "print(a)"
   ]
  },
  {
   "cell_type": "code",
   "execution_count": 4,
   "id": "d28f88d2",
   "metadata": {},
   "outputs": [
    {
     "name": "stdout",
     "output_type": "stream",
     "text": [
      "{1, 2}\n"
     ]
    }
   ],
   "source": [
    "a.add(2)\n",
    "print(a)"
   ]
  },
  {
   "cell_type": "code",
   "execution_count": 6,
   "id": "49abb556",
   "metadata": {},
   "outputs": [
    {
     "name": "stdout",
     "output_type": "stream",
     "text": [
      "1\n",
      "2\n"
     ]
    }
   ],
   "source": [
    "for i in a:\n",
    "    print(i)"
   ]
  },
  {
   "cell_type": "markdown",
   "id": "1fdc8747",
   "metadata": {},
   "source": [
    "UNDERSTANDING LIST"
   ]
  },
  {
   "cell_type": "code",
   "execution_count": 10,
   "id": "d04eab3f",
   "metadata": {},
   "outputs": [
    {
     "name": "stdout",
     "output_type": "stream",
     "text": [
      "{1, 2, 3, 4}\n"
     ]
    }
   ],
   "source": [
    "given_list1=[1,1,2,3,4,2,4]\n",
    "new_set1 =set()\n",
    "for i in given_list1:\n",
    "    new_set1.add(i)\n",
    "print(new_set1)"
   ]
  },
  {
   "cell_type": "code",
   "execution_count": 11,
   "id": "0406e612",
   "metadata": {},
   "outputs": [
    {
     "name": "stdout",
     "output_type": "stream",
     "text": [
      "[1, 2, 3, 4]\n"
     ]
    }
   ],
   "source": [
    "new_list1=list()\n",
    "for i in new_set1:\n",
    "    new_list1.append(i)\n",
    "print(new_list1)"
   ]
  },
  {
   "cell_type": "code",
   "execution_count": 12,
   "id": "1f24251c",
   "metadata": {},
   "outputs": [
    {
     "name": "stdout",
     "output_type": "stream",
     "text": [
      "{'apple', 'banana'}\n"
     ]
    }
   ],
   "source": [
    "b=set()\n",
    "b.add(\"apple\")\n",
    "b.add(\"banana\")\n",
    "print(b)"
   ]
  },
  {
   "cell_type": "code",
   "execution_count": 13,
   "id": "297461ea",
   "metadata": {},
   "outputs": [
    {
     "name": "stdout",
     "output_type": "stream",
     "text": [
      "{3.14, 1, 'apple', 'banana'}\n"
     ]
    }
   ],
   "source": [
    "b.add(1)\n",
    "b.add(3.14)\n",
    "print(b)"
   ]
  },
  {
   "cell_type": "markdown",
   "id": "1222eed6",
   "metadata": {},
   "source": [
    "FINDING SUM OF UNIQUE ELEMENTS OF A LIST"
   ]
  },
  {
   "cell_type": "code",
   "execution_count": 15,
   "id": "0f948b0e",
   "metadata": {},
   "outputs": [
    {
     "name": "stdout",
     "output_type": "stream",
     "text": [
      "8\n"
     ]
    }
   ],
   "source": [
    "given_list2 = [1,3,4,1,3]\n",
    "new_set2 =set()\n",
    "for i in given_list2:\n",
    "    new_set2.add(i)\n",
    "sum=0\n",
    "for i in new_set2:\n",
    "    sum=sum+i\n",
    "print(sum)\n",
    "    "
   ]
  },
  {
   "cell_type": "raw",
   "id": "64592b3a",
   "metadata": {},
   "source": [
    "UNDERSTANDING ARRAY"
   ]
  },
  {
   "cell_type": "code",
   "execution_count": 16,
   "id": "7c6e7d5c",
   "metadata": {},
   "outputs": [
    {
     "name": "stdout",
     "output_type": "stream",
     "text": [
      "array('i', [1, 2, 4, 7, 9])\n"
     ]
    }
   ],
   "source": [
    "from array import *\n",
    "value=array('i',[1,2,4,7,9])   #i stands for signed integer( +ve and -ve ) & u for characters\n",
    "print(value)"
   ]
  },
  {
   "cell_type": "code",
   "execution_count": 17,
   "id": "3dacabf6",
   "metadata": {},
   "outputs": [
    {
     "name": "stdout",
     "output_type": "stream",
     "text": [
      "(4504386608, 5)\n"
     ]
    }
   ],
   "source": [
    "print(value.buffer_info())     #to get the array address and size"
   ]
  },
  {
   "cell_type": "code",
   "execution_count": 22,
   "id": "29be7707",
   "metadata": {},
   "outputs": [
    {
     "name": "stdout",
     "output_type": "stream",
     "text": [
      "2\n"
     ]
    }
   ],
   "source": [
    "print(value[1])"
   ]
  },
  {
   "cell_type": "code",
   "execution_count": 23,
   "id": "51993236",
   "metadata": {},
   "outputs": [
    {
     "name": "stdout",
     "output_type": "stream",
     "text": [
      "1\n",
      "2\n",
      "4\n",
      "7\n",
      "9\n"
     ]
    }
   ],
   "source": [
    "for i in value:\n",
    "    print(i)"
   ]
  },
  {
   "cell_type": "code",
   "execution_count": 24,
   "id": "6fc1570e",
   "metadata": {},
   "outputs": [
    {
     "name": "stdout",
     "output_type": "stream",
     "text": [
      "1\n",
      "2\n",
      "4\n",
      "7\n",
      "9\n"
     ]
    }
   ],
   "source": [
    "for i in range(5):\n",
    "    print(value[i])"
   ]
  },
  {
   "cell_type": "code",
   "execution_count": 25,
   "id": "faee70af",
   "metadata": {},
   "outputs": [
    {
     "name": "stdout",
     "output_type": "stream",
     "text": [
      "1\n",
      "2\n",
      "4\n",
      "7\n",
      "9\n"
     ]
    }
   ],
   "source": [
    "for i in range(len(value)):\n",
    "    print(value[i])"
   ]
  },
  {
   "cell_type": "code",
   "execution_count": 26,
   "id": "f5cca670",
   "metadata": {},
   "outputs": [
    {
     "name": "stdout",
     "output_type": "stream",
     "text": [
      "array('i', [1, 2, 4, 7, 9])\n"
     ]
    }
   ],
   "source": [
    "newArr= array(value.typecode,(a for a in value))\n",
    "print(newArr)"
   ]
  },
  {
   "cell_type": "code",
   "execution_count": 27,
   "id": "15481965",
   "metadata": {},
   "outputs": [
    {
     "name": "stdout",
     "output_type": "stream",
     "text": [
      "The sum of the array : 23\n"
     ]
    }
   ],
   "source": [
    "sum=0                    #sum of elements of an array\n",
    "for i in newArr:\n",
    "    sum =sum+i\n",
    "print(\"The sum of the array : \"+str(sum))"
   ]
  },
  {
   "cell_type": "markdown",
   "id": "960654fb",
   "metadata": {},
   "source": [
    "list"
   ]
  },
  {
   "cell_type": "code",
   "execution_count": 29,
   "id": "8740024a",
   "metadata": {},
   "outputs": [
    {
     "name": "stdout",
     "output_type": "stream",
     "text": [
      "[0, 1, 3, 5, 7, 9]\n"
     ]
    }
   ],
   "source": [
    "numbers = [5,3,7,1,9,0]\n",
    "numbers.sort()\n",
    "print(numbers)"
   ]
  },
  {
   "cell_type": "code",
   "execution_count": 30,
   "id": "0aabac39",
   "metadata": {},
   "outputs": [
    {
     "name": "stdout",
     "output_type": "stream",
     "text": [
      "[9, 7, 5, 3, 1, 0]\n"
     ]
    }
   ],
   "source": [
    "numbers.reverse()\n",
    "print(numbers)"
   ]
  },
  {
   "cell_type": "code",
   "execution_count": 31,
   "id": "655278ed",
   "metadata": {},
   "outputs": [
    {
     "name": "stdout",
     "output_type": "stream",
     "text": [
      "[7, 5, 3]\n"
     ]
    }
   ],
   "source": [
    "print(numbers[1:4])"
   ]
  },
  {
   "cell_type": "code",
   "execution_count": 32,
   "id": "c2ccee63",
   "metadata": {},
   "outputs": [
    {
     "name": "stdout",
     "output_type": "stream",
     "text": [
      "[9, 5, 1]\n"
     ]
    }
   ],
   "source": [
    "print(numbers[0:6:2])   # (start):(end):jump by this factor"
   ]
  },
  {
   "cell_type": "code",
   "execution_count": 33,
   "id": "f5c056b4",
   "metadata": {},
   "outputs": [
    {
     "name": "stdout",
     "output_type": "stream",
     "text": [
      "[5]\n"
     ]
    }
   ],
   "source": [
    "print(numbers[2:5:3])"
   ]
  },
  {
   "cell_type": "code",
   "execution_count": 34,
   "id": "e07eeb93",
   "metadata": {},
   "outputs": [
    {
     "name": "stdout",
     "output_type": "stream",
     "text": [
      "9\n"
     ]
    }
   ],
   "source": [
    "print(max(numbers))"
   ]
  },
  {
   "cell_type": "code",
   "execution_count": 35,
   "id": "87356efd",
   "metadata": {},
   "outputs": [
    {
     "name": "stdout",
     "output_type": "stream",
     "text": [
      "[9, 7, 5, 3, 1, 0, 7]\n"
     ]
    }
   ],
   "source": [
    "numbers.append(7)\n",
    "print(numbers)"
   ]
  },
  {
   "cell_type": "code",
   "execution_count": 36,
   "id": "9941b101",
   "metadata": {},
   "outputs": [
    {
     "name": "stdout",
     "output_type": "stream",
     "text": [
      "[9, 55, 7, 5, 3, 1, 0, 7]\n"
     ]
    }
   ],
   "source": [
    "numbers.insert(1,55)\n",
    "print(numbers)"
   ]
  },
  {
   "cell_type": "code",
   "execution_count": 37,
   "id": "201693ac",
   "metadata": {},
   "outputs": [
    {
     "name": "stdout",
     "output_type": "stream",
     "text": [
      "[9, 55, 7, 3, 1, 0, 7]\n"
     ]
    }
   ],
   "source": [
    "numbers.remove(5)\n",
    "print(numbers)"
   ]
  },
  {
   "cell_type": "code",
   "execution_count": 38,
   "id": "e455cc8b",
   "metadata": {},
   "outputs": [
    {
     "name": "stdout",
     "output_type": "stream",
     "text": [
      "[9, 55, 7, 3, 1, 0]\n"
     ]
    }
   ],
   "source": [
    "numbers.pop()\n",
    "print(numbers)"
   ]
  },
  {
   "cell_type": "markdown",
   "id": "1a5b1654",
   "metadata": {},
   "source": [
    "tuple(immutable)"
   ]
  },
  {
   "cell_type": "code",
   "execution_count": 39,
   "id": "f983dea8",
   "metadata": {},
   "outputs": [
    {
     "name": "stdout",
     "output_type": "stream",
     "text": [
      "(1, 2, 3, 4)\n"
     ]
    }
   ],
   "source": [
    "tp = (1,2,3,4)\n",
    "print(tp)"
   ]
  },
  {
   "cell_type": "code",
   "execution_count": 40,
   "id": "f737d74d",
   "metadata": {},
   "outputs": [
    {
     "name": "stdout",
     "output_type": "stream",
     "text": [
      "8 1\n"
     ]
    }
   ],
   "source": [
    "a=1                    #swapping two numbers\n",
    "b=8\n",
    "a, b = b, a\n",
    "print(a, b)"
   ]
  },
  {
   "cell_type": "code",
   "execution_count": 45,
   "id": "64c7c49d",
   "metadata": {},
   "outputs": [
    {
     "name": "stdout",
     "output_type": "stream",
     "text": [
      "[6, 2, 3, 4, 5, 1]\n"
     ]
    }
   ],
   "source": [
    "newList = [1,2,3,4,5,6]\n",
    "newList[0], newList[-1] = newList[-1], newList[0]\n",
    "print(newList)\n"
   ]
  },
  {
   "cell_type": "code",
   "execution_count": 46,
   "id": "862ec464",
   "metadata": {},
   "outputs": [
    {
     "name": "stdout",
     "output_type": "stream",
     "text": [
      "[6, 2, 4]\n"
     ]
    }
   ],
   "source": [
    "even_nos = [ num for num in newList if num%2==0]     #a new list is created for even nos\n",
    "print(even_nos)"
   ]
  },
  {
   "cell_type": "code",
   "execution_count": 47,
   "id": "81535444",
   "metadata": {},
   "outputs": [
    {
     "name": "stdout",
     "output_type": "stream",
     "text": [
      "[3, 5, 1]\n"
     ]
    }
   ],
   "source": [
    "list_odd = [ num for num in newList if num%2 != 0]\n",
    "print(list_odd)"
   ]
  },
  {
   "cell_type": "markdown",
   "id": "e041f9ce",
   "metadata": {},
   "source": [
    "CLONING A LIST"
   ]
  },
  {
   "cell_type": "code",
   "execution_count": 48,
   "id": "e09fd724",
   "metadata": {},
   "outputs": [
    {
     "name": "stdout",
     "output_type": "stream",
     "text": [
      "original list : [6, 2, 3, 4, 5, 1]\n",
      "cloned list : [6, 2, 3, 4, 5, 1]\n"
     ]
    }
   ],
   "source": [
    "def cloning(newList):\n",
    "    list_copy = newList[:]\n",
    "    return list_copy\n",
    "cloneList = cloning(newList)\n",
    "print(\"original list :\", newList)\n",
    "print(\"cloned list :\", cloneList)"
   ]
  },
  {
   "cell_type": "markdown",
   "id": "f8cff17c",
   "metadata": {},
   "source": [
    "FINDING OUT THE REPEATING ELEMENTS OF A LIST"
   ]
  },
  {
   "cell_type": "code",
   "execution_count": 52,
   "id": "2f85f862",
   "metadata": {},
   "outputs": [
    {
     "name": "stdout",
     "output_type": "stream",
     "text": [
      "[1, 4]\n"
     ]
    }
   ],
   "source": [
    "newList=[1,2,4,5,1,4,9,8]\n",
    "size = len(newList)\n",
    "repeated=[]\n",
    "for i in range(size):\n",
    "    k=i+1\n",
    "    for j in range(k,size):\n",
    "        if newList[i]==newList[j] and newList[i] not in repeated:\n",
    "            repeated.append(newList[i])\n",
    "print(repeated)"
   ]
  },
  {
   "cell_type": "markdown",
   "id": "aced132c",
   "metadata": {},
   "source": [
    "CHECKING WETHER A STRING IS PALINDROME OR NOT"
   ]
  },
  {
   "cell_type": "code",
   "execution_count": 54,
   "id": "6d1ed4cf",
   "metadata": {},
   "outputs": [
    {
     "name": "stdout",
     "output_type": "stream",
     "text": [
      "Enter a string to check wether it is palindrome or not : MALAYALAM\n",
      "PALINDROME\n"
     ]
    }
   ],
   "source": [
    "def palindrome(s):\n",
    "    return s == s[::-1]      #reversing the string and checking the condition\n",
    "line = input(\"Enter a string to check wether it is palindrome or not : \")\n",
    "if palindrome(line)==True:\n",
    "    print(\"PALINDROME\")\n",
    "else:\n",
    "    print(\"NOT PALINDROME\")"
   ]
  },
  {
   "cell_type": "markdown",
   "id": "f4e65b98",
   "metadata": {},
   "source": [
    "CHECK WETHER A WORD IS SYMMERTRICAL"
   ]
  },
  {
   "cell_type": "code",
   "execution_count": 1,
   "id": "793fe3ff",
   "metadata": {},
   "outputs": [
    {
     "name": "stdout",
     "output_type": "stream",
     "text": [
      "SYMMETRICAL\n"
     ]
    }
   ],
   "source": [
    "string = \"amaama\"\n",
    "half=  int(len(string)/2)\n",
    "if len(string)%2 == 0:\n",
    "    first_half = string[:half]\n",
    "    second_half = string[half:]\n",
    "else:\n",
    "    first_half = string[:half]\n",
    "    second_half = string[half+1:]\n",
    "if first_half==second_half:\n",
    "    print(\"SYMMETRICAL\")\n",
    "else:\n",
    "    print(\"NOT SYMMETRICAL\")\n",
    "    "
   ]
  },
  {
   "cell_type": "code",
   "execution_count": null,
   "id": "f856d51c",
   "metadata": {},
   "outputs": [],
   "source": [
    "REVERSE A GIVEN SENTENCE"
   ]
  },
  {
   "cell_type": "code",
   "execution_count": 1,
   "id": "210c1161",
   "metadata": {},
   "outputs": [
    {
     "name": "stdout",
     "output_type": "stream",
     "text": [
      "Enter the sentence : i am a boy\n",
      "boy a am i\n"
     ]
    }
   ],
   "source": [
    "string = input(\"Enter the sentence : \")\n",
    "words = string.split(\" \")\n",
    "reverse =\" \".join(reversed(words))\n",
    "print(reverse)"
   ]
  },
  {
   "cell_type": "code",
   "execution_count": 2,
   "id": "c3667e29",
   "metadata": {},
   "outputs": [
    {
     "name": "stdout",
     "output_type": "stream",
     "text": [
      "Enter the sentence : i am a boy\n",
      "['boy', 'a', 'am', 'i']\n"
     ]
    }
   ],
   "source": [
    "string = input(\"Enter the sentence : \")\n",
    "words = string.split(\" \")\n",
    "reverse = words[::-1]\n",
    "print(reverse)"
   ]
  },
  {
   "cell_type": "markdown",
   "id": "85c9636c",
   "metadata": {},
   "source": [
    "REMOVING SPECIFIC CHARACTERS FROM A STRING"
   ]
  },
  {
   "cell_type": "code",
   "execution_count": 3,
   "id": "c0aa0d7f",
   "metadata": {},
   "outputs": [
    {
     "name": "stdout",
     "output_type": "stream",
     "text": [
      "Input the alphabet to be removed. : a\n",
      "ORIGINAL STRING : I want to be a data analyst\n",
      "NEW STRING : I wnt to be  dt nlyst\n"
     ]
    }
   ],
   "source": [
    "string = \"I want to be a data analyst\"\n",
    "character = input(\"Input the alphabet to be removed. : \")\n",
    "new_string = string.replace(character,\"\")\n",
    "print(\"ORIGINAL STRING : \"+string)\n",
    "print(\"NEW STRING : \"+new_string)\n",
    "\n"
   ]
  },
  {
   "cell_type": "markdown",
   "id": "4135d027",
   "metadata": {},
   "source": [
    "TO CHECK WETHER. A SUBSTRING IS PRESENT IN A STRING OR NOT"
   ]
  },
  {
   "cell_type": "code",
   "execution_count": 4,
   "id": "bd8eee80",
   "metadata": {},
   "outputs": [
    {
     "name": "stdout",
     "output_type": "stream",
     "text": [
      "Enter the string : india is great\n",
      "Enter the sub string : great\n",
      "YES, it is present\n"
     ]
    }
   ],
   "source": [
    "def check(string,sub_string):\n",
    "    if(string.find(sub_string)== -1):\n",
    "        print(\"NO, the sub string is nit present\")\n",
    "    else:\n",
    "        print(\"YES, it is present\")\n",
    "string1 = input(\"Enter the string : \")\n",
    "sub_string1=input(\"Enter the sub string : \")\n",
    "check(string1,sub_string1)"
   ]
  },
  {
   "cell_type": "markdown",
   "id": "2aca0f9a",
   "metadata": {},
   "source": [
    "DICTIONARIES"
   ]
  },
  {
   "cell_type": "code",
   "execution_count": 5,
   "id": "bb555497",
   "metadata": {},
   "outputs": [
    {
     "name": "stdout",
     "output_type": "stream",
     "text": [
      "{1: 'Abdur', 2: 'Python', 3: 'Science'}\n"
     ]
    }
   ],
   "source": [
    "data ={1:\"Abdur\",2:\"Python\",3:\"Science\"}\n",
    "print(data)"
   ]
  },
  {
   "cell_type": "code",
   "execution_count": 6,
   "id": "5b923d3a",
   "metadata": {},
   "outputs": [
    {
     "name": "stdout",
     "output_type": "stream",
     "text": [
      "Science\n"
     ]
    }
   ],
   "source": [
    "print(data[3])"
   ]
  },
  {
   "cell_type": "code",
   "execution_count": 7,
   "id": "a0e90f85",
   "metadata": {},
   "outputs": [
    {
     "name": "stdout",
     "output_type": "stream",
     "text": [
      "Python\n"
     ]
    }
   ],
   "source": [
    "print(data.get(2))"
   ]
  },
  {
   "cell_type": "code",
   "execution_count": 8,
   "id": "cf2fb665",
   "metadata": {},
   "outputs": [
    {
     "name": "stdout",
     "output_type": "stream",
     "text": [
      "None\n"
     ]
    }
   ],
   "source": [
    "print(data.get(4))"
   ]
  },
  {
   "cell_type": "code",
   "execution_count": 9,
   "id": "fcf4b18b",
   "metadata": {},
   "outputs": [
    {
     "name": "stdout",
     "output_type": "stream",
     "text": [
      "Not Found\n"
     ]
    }
   ],
   "source": [
    "print(data.get(4,\"Not Found\"))"
   ]
  },
  {
   "cell_type": "code",
   "execution_count": 10,
   "id": "50d0c339",
   "metadata": {},
   "outputs": [
    {
     "name": "stdout",
     "output_type": "stream",
     "text": [
      "['Abdur', 'Sam', 'Joe'] ['Python', 'Java', 'C++']\n"
     ]
    }
   ],
   "source": [
    "keys = [\"Abdur\",\"Sam\",\"Joe\"]\n",
    "values = [\"Python\",\"Java\",\"C++\"]\n",
    "print(keys,values)"
   ]
  },
  {
   "cell_type": "code",
   "execution_count": 12,
   "id": "16ca5d47",
   "metadata": {},
   "outputs": [
    {
     "name": "stdout",
     "output_type": "stream",
     "text": [
      "{'Abdur': 'Python', 'Sam': 'Java', 'Joe': 'C++'}\n"
     ]
    }
   ],
   "source": [
    "data = dict(zip(keys,values))#\"dict\" word converts the list into dictionary\n",
    "print(data)"
   ]
  },
  {
   "cell_type": "code",
   "execution_count": 13,
   "id": "31a77cba",
   "metadata": {},
   "outputs": [
    {
     "name": "stdout",
     "output_type": "stream",
     "text": [
      "Java\n"
     ]
    }
   ],
   "source": [
    "print(data[\"Sam\"])\n",
    "\n"
   ]
  },
  {
   "cell_type": "code",
   "execution_count": 14,
   "id": "ed8194c6",
   "metadata": {},
   "outputs": [
    {
     "name": "stdout",
     "output_type": "stream",
     "text": [
      "{'Abdur': 'Python', 'Sam': 'Java', 'Joe': 'C++', 'Rachael': 'HTML'}\n"
     ]
    }
   ],
   "source": [
    "data[\"Rachael\"]=\"HTML\"\n",
    "print(data)"
   ]
  },
  {
   "cell_type": "code",
   "execution_count": 15,
   "id": "9d723069",
   "metadata": {},
   "outputs": [
    {
     "name": "stdout",
     "output_type": "stream",
     "text": [
      "{'Abdur': 'Python', 'Sam': 'Java', 'Joe': 'C++'}\n"
     ]
    }
   ],
   "source": [
    "del data[\"Rachael\"]\n",
    "print(data)"
   ]
  },
  {
   "cell_type": "code",
   "execution_count": 17,
   "id": "b75ca908",
   "metadata": {},
   "outputs": [
    {
     "name": "stdout",
     "output_type": "stream",
     "text": [
      "{'JS': 'Atom', 'C++': 'VS', 'Python': ['Pycharm', 'Jupyter'], 'Java': {'JSE': 'Netbeans', 'JEE': 'Eclipse'}}\n"
     ]
    }
   ],
   "source": [
    "prog ={\"JS\":\"Atom\" , \"C++\":\"VS\" , \"Python\":[\"Pycharm\",\"Jupyter\"] , \"Java\":{\"JSE\":\"Netbeans\" , \"JEE\":\"Eclipse\"}}\n",
    "print(prog)"
   ]
  },
  {
   "cell_type": "code",
   "execution_count": 18,
   "id": "e1dc6766",
   "metadata": {},
   "outputs": [
    {
     "name": "stdout",
     "output_type": "stream",
     "text": [
      "Atom\n"
     ]
    }
   ],
   "source": [
    "print(prog[\"JS\"])"
   ]
  },
  {
   "cell_type": "code",
   "execution_count": 19,
   "id": "29a4f9c1",
   "metadata": {},
   "outputs": [
    {
     "name": "stdout",
     "output_type": "stream",
     "text": [
      "['Pycharm', 'Jupyter']\n"
     ]
    }
   ],
   "source": [
    "print(prog[\"Python\"])"
   ]
  },
  {
   "cell_type": "code",
   "execution_count": 20,
   "id": "76e74b67",
   "metadata": {},
   "outputs": [
    {
     "name": "stdout",
     "output_type": "stream",
     "text": [
      "Jupyter\n"
     ]
    }
   ],
   "source": [
    "print(prog[\"Python\"][1])"
   ]
  },
  {
   "cell_type": "code",
   "execution_count": 23,
   "id": "4e2e0bbc",
   "metadata": {},
   "outputs": [
    {
     "name": "stdout",
     "output_type": "stream",
     "text": [
      "{'JSE': 'Netbeans', 'JEE': 'Eclipse'}\n"
     ]
    }
   ],
   "source": [
    "print(prog[\"Java\"])"
   ]
  },
  {
   "cell_type": "code",
   "execution_count": 24,
   "id": "974420b0",
   "metadata": {},
   "outputs": [
    {
     "name": "stdout",
     "output_type": "stream",
     "text": [
      "Eclipse\n"
     ]
    }
   ],
   "source": [
    "print(prog[\"Java\"][\"JEE\"])"
   ]
  },
  {
   "cell_type": "code",
   "execution_count": null,
   "id": "c028bbf6",
   "metadata": {},
   "outputs": [],
   "source": []
  }
 ],
 "metadata": {
  "kernelspec": {
   "display_name": "Python 3 (ipykernel)",
   "language": "python",
   "name": "python3"
  },
  "language_info": {
   "codemirror_mode": {
    "name": "ipython",
    "version": 3
   },
   "file_extension": ".py",
   "mimetype": "text/x-python",
   "name": "python",
   "nbconvert_exporter": "python",
   "pygments_lexer": "ipython3",
   "version": "3.8.2"
  }
 },
 "nbformat": 4,
 "nbformat_minor": 5
}
